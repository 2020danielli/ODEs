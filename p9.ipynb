{
  "metadata": {
    "language_info": {
      "codemirror_mode": {
        "name": "python",
        "version": 3
      },
      "file_extension": ".py",
      "mimetype": "text/x-python",
      "name": "python",
      "nbconvert_exporter": "python",
      "pygments_lexer": "ipython3",
      "version": "3.8"
    },
    "kernelspec": {
      "name": "python",
      "display_name": "Python (Pyodide)",
      "language": "python"
    }
  },
  "nbformat_minor": 4,
  "nbformat": 4,
  "cells": [
    {
      "cell_type": "code",
      "source": "import numpy as np\nimport pandas as pd\nimport math\n\nsteps = [2**n for n in range(10,21)]\ne = math.exp(1)",
      "metadata": {
        "trusted": true
      },
      "execution_count": 47,
      "outputs": []
    },
    {
      "cell_type": "code",
      "source": "def euler(N):\n    delta = 1.0 / N\n    x = 1.0\n    for i in range(N):\n        x += delta * x\n    error = abs(x - e)\n    return x\n\ndef mid(N):\n    delta = 1.0 / N\n    x = 1.0 \n    for i in range(N):\n        k = x + delta / 2.0 * x\n        x += delta * k\n    error = abs(x - e)\n    return x\n\ndef runge_kutta(N):\n    delta = 1.0 / N\n    x = 1.0\n    for i in range(N):\n        k1 = x\n        k2 = x + delta / 2.0 * k1\n        k3 = x + delta / 2.0 * k2\n        k4 = x + delta * k3\n        x += delta / 6.0 * (k1 + 2 * k2 + 2 * k3 + k4)\n    return x",
      "metadata": {
        "trusted": true
      },
      "execution_count": 48,
      "outputs": []
    },
    {
      "cell_type": "code",
      "source": "def get_df(method):\n    t = []\n    for i in steps:\n        t.append([i,method(i),method(i)-e])\n    return pd.DataFrame(t,columns=['Steps','x(1)','Error'])\n    ",
      "metadata": {
        "trusted": true
      },
      "execution_count": 49,
      "outputs": []
    },
    {
      "cell_type": "code",
      "source": "euler_df = get_df(euler)\neuler_df",
      "metadata": {
        "trusted": true
      },
      "execution_count": 50,
      "outputs": [
        {
          "execution_count": 50,
          "output_type": "execute_result",
          "data": {
            "text/plain": "      Steps                x(1)               Error\n0      1024  2.7169557294664357 -0.0013260989926094\n1      2048  2.7176184823368796 -0.0006633461221655\n2      4096  2.7179500811896666 -0.0003317472693785\n3      8192  2.7181159362657876 -0.0001658921932575\n4     16384  2.7181988777219490 -0.0000829507370961\n5     32768  2.7182403519302696 -0.0000414765287755\n6     65536  2.7182610899046455 -0.0000207385543995\n7    131072  2.7182714591092370 -0.0000103693498081\n8    262144  2.7182766437660111 -0.0000051846930340\n9    524288  2.7182792361078856 -0.0000025923511595\n10  1048576  2.7182805322824128 -0.0000012961766322",
            "text/html": "<div>\n<style scoped>\n    .dataframe tbody tr th:only-of-type {\n        vertical-align: middle;\n    }\n\n    .dataframe tbody tr th {\n        vertical-align: top;\n    }\n\n    .dataframe thead th {\n        text-align: right;\n    }\n</style>\n<table border=\"1\" class=\"dataframe\">\n  <thead>\n    <tr style=\"text-align: right;\">\n      <th></th>\n      <th>Steps</th>\n      <th>x(1)</th>\n      <th>Error</th>\n    </tr>\n  </thead>\n  <tbody>\n    <tr>\n      <th>0</th>\n      <td>1024</td>\n      <td>2.7169557294664357</td>\n      <td>-0.0013260989926094</td>\n    </tr>\n    <tr>\n      <th>1</th>\n      <td>2048</td>\n      <td>2.7176184823368796</td>\n      <td>-0.0006633461221655</td>\n    </tr>\n    <tr>\n      <th>2</th>\n      <td>4096</td>\n      <td>2.7179500811896666</td>\n      <td>-0.0003317472693785</td>\n    </tr>\n    <tr>\n      <th>3</th>\n      <td>8192</td>\n      <td>2.7181159362657876</td>\n      <td>-0.0001658921932575</td>\n    </tr>\n    <tr>\n      <th>4</th>\n      <td>16384</td>\n      <td>2.7181988777219490</td>\n      <td>-0.0000829507370961</td>\n    </tr>\n    <tr>\n      <th>5</th>\n      <td>32768</td>\n      <td>2.7182403519302696</td>\n      <td>-0.0000414765287755</td>\n    </tr>\n    <tr>\n      <th>6</th>\n      <td>65536</td>\n      <td>2.7182610899046455</td>\n      <td>-0.0000207385543995</td>\n    </tr>\n    <tr>\n      <th>7</th>\n      <td>131072</td>\n      <td>2.7182714591092370</td>\n      <td>-0.0000103693498081</td>\n    </tr>\n    <tr>\n      <th>8</th>\n      <td>262144</td>\n      <td>2.7182766437660111</td>\n      <td>-0.0000051846930340</td>\n    </tr>\n    <tr>\n      <th>9</th>\n      <td>524288</td>\n      <td>2.7182792361078856</td>\n      <td>-0.0000025923511595</td>\n    </tr>\n    <tr>\n      <th>10</th>\n      <td>1048576</td>\n      <td>2.7182805322824128</td>\n      <td>-0.0000012961766322</td>\n    </tr>\n  </tbody>\n</table>\n</div>"
          },
          "metadata": {}
        }
      ]
    },
    {
      "cell_type": "code",
      "source": "mid_df = get_df(mid)\nmid_df",
      "metadata": {
        "trusted": true
      },
      "execution_count": 51,
      "outputs": [
        {
          "execution_count": 51,
          "output_type": "execute_result",
          "data": {
            "text/plain": "      Steps                x(1)               Error\n0      1024  2.7182813967161392 -0.0000004317429059\n1      2048  2.7182817204837777 -0.0000001079752674\n2      4096  2.7182818014602854 -0.0000000269987597\n3      8192  2.7182818217087306 -0.0000000067503145\n4     16384  2.7182818267714186 -0.0000000016876265\n5     32768  2.7182818280371128 -0.0000000004219323\n6     65536  2.7182818283535792 -0.0000000001054659\n7    131072  2.7182818284326142 -0.0000000000264309\n8    262144  2.7182818284524850 -0.0000000000065601\n9    524288  2.7182818284572940 -0.0000000000017510\n10  1048576  2.7182818284584789 -0.0000000000005662",
            "text/html": "<div>\n<style scoped>\n    .dataframe tbody tr th:only-of-type {\n        vertical-align: middle;\n    }\n\n    .dataframe tbody tr th {\n        vertical-align: top;\n    }\n\n    .dataframe thead th {\n        text-align: right;\n    }\n</style>\n<table border=\"1\" class=\"dataframe\">\n  <thead>\n    <tr style=\"text-align: right;\">\n      <th></th>\n      <th>Steps</th>\n      <th>x(1)</th>\n      <th>Error</th>\n    </tr>\n  </thead>\n  <tbody>\n    <tr>\n      <th>0</th>\n      <td>1024</td>\n      <td>2.7182813967161392</td>\n      <td>-0.0000004317429059</td>\n    </tr>\n    <tr>\n      <th>1</th>\n      <td>2048</td>\n      <td>2.7182817204837777</td>\n      <td>-0.0000001079752674</td>\n    </tr>\n    <tr>\n      <th>2</th>\n      <td>4096</td>\n      <td>2.7182818014602854</td>\n      <td>-0.0000000269987597</td>\n    </tr>\n    <tr>\n      <th>3</th>\n      <td>8192</td>\n      <td>2.7182818217087306</td>\n      <td>-0.0000000067503145</td>\n    </tr>\n    <tr>\n      <th>4</th>\n      <td>16384</td>\n      <td>2.7182818267714186</td>\n      <td>-0.0000000016876265</td>\n    </tr>\n    <tr>\n      <th>5</th>\n      <td>32768</td>\n      <td>2.7182818280371128</td>\n      <td>-0.0000000004219323</td>\n    </tr>\n    <tr>\n      <th>6</th>\n      <td>65536</td>\n      <td>2.7182818283535792</td>\n      <td>-0.0000000001054659</td>\n    </tr>\n    <tr>\n      <th>7</th>\n      <td>131072</td>\n      <td>2.7182818284326142</td>\n      <td>-0.0000000000264309</td>\n    </tr>\n    <tr>\n      <th>8</th>\n      <td>262144</td>\n      <td>2.7182818284524850</td>\n      <td>-0.0000000000065601</td>\n    </tr>\n    <tr>\n      <th>9</th>\n      <td>524288</td>\n      <td>2.7182818284572940</td>\n      <td>-0.0000000000017510</td>\n    </tr>\n    <tr>\n      <th>10</th>\n      <td>1048576</td>\n      <td>2.7182818284584789</td>\n      <td>-0.0000000000005662</td>\n    </tr>\n  </tbody>\n</table>\n</div>"
          },
          "metadata": {}
        }
      ]
    },
    {
      "cell_type": "code",
      "source": "r_df = get_df(runge_kutta)\nr_df",
      "metadata": {
        "trusted": true
      },
      "execution_count": 52,
      "outputs": [
        {
          "execution_count": 52,
          "output_type": "execute_result",
          "data": {
            "text/plain": "      Steps                x(1)               Error\n0      1024  2.7182818284590256 -0.0000000000000195\n1      2048  2.7182818284590486  0.0000000000000036\n2      4096  2.7182818284590535  0.0000000000000084\n3      8192  2.7182818284590238 -0.0000000000000213\n4     16384  2.7182818284590473  0.0000000000000022\n5     32768  2.7182818284590300 -0.0000000000000151\n6     65536  2.7182818284589905 -0.0000000000000546\n7    131072  2.7182818284589891 -0.0000000000000560\n8    262144  2.7182818284590740  0.0000000000000289\n9    524288  2.7182818284589119 -0.0000000000001332\n10  1048576  2.7182818284589283 -0.0000000000001168",
            "text/html": "<div>\n<style scoped>\n    .dataframe tbody tr th:only-of-type {\n        vertical-align: middle;\n    }\n\n    .dataframe tbody tr th {\n        vertical-align: top;\n    }\n\n    .dataframe thead th {\n        text-align: right;\n    }\n</style>\n<table border=\"1\" class=\"dataframe\">\n  <thead>\n    <tr style=\"text-align: right;\">\n      <th></th>\n      <th>Steps</th>\n      <th>x(1)</th>\n      <th>Error</th>\n    </tr>\n  </thead>\n  <tbody>\n    <tr>\n      <th>0</th>\n      <td>1024</td>\n      <td>2.7182818284590256</td>\n      <td>-0.0000000000000195</td>\n    </tr>\n    <tr>\n      <th>1</th>\n      <td>2048</td>\n      <td>2.7182818284590486</td>\n      <td>0.0000000000000036</td>\n    </tr>\n    <tr>\n      <th>2</th>\n      <td>4096</td>\n      <td>2.7182818284590535</td>\n      <td>0.0000000000000084</td>\n    </tr>\n    <tr>\n      <th>3</th>\n      <td>8192</td>\n      <td>2.7182818284590238</td>\n      <td>-0.0000000000000213</td>\n    </tr>\n    <tr>\n      <th>4</th>\n      <td>16384</td>\n      <td>2.7182818284590473</td>\n      <td>0.0000000000000022</td>\n    </tr>\n    <tr>\n      <th>5</th>\n      <td>32768</td>\n      <td>2.7182818284590300</td>\n      <td>-0.0000000000000151</td>\n    </tr>\n    <tr>\n      <th>6</th>\n      <td>65536</td>\n      <td>2.7182818284589905</td>\n      <td>-0.0000000000000546</td>\n    </tr>\n    <tr>\n      <th>7</th>\n      <td>131072</td>\n      <td>2.7182818284589891</td>\n      <td>-0.0000000000000560</td>\n    </tr>\n    <tr>\n      <th>8</th>\n      <td>262144</td>\n      <td>2.7182818284590740</td>\n      <td>0.0000000000000289</td>\n    </tr>\n    <tr>\n      <th>9</th>\n      <td>524288</td>\n      <td>2.7182818284589119</td>\n      <td>-0.0000000000001332</td>\n    </tr>\n    <tr>\n      <th>10</th>\n      <td>1048576</td>\n      <td>2.7182818284589283</td>\n      <td>-0.0000000000001168</td>\n    </tr>\n  </tbody>\n</table>\n</div>"
          },
          "metadata": {}
        }
      ]
    }
  ]
}